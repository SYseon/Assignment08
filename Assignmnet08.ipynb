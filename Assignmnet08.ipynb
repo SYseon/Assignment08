{
 "cells": [
  {
   "cell_type": "markdown",
   "metadata": {},
   "source": [
    "- 20144753 Seung Yeop, Seon\n",
    "- https://github.com/SYseon/Assignment08\n"
   ]
  },
  {
   "cell_type": "markdown",
   "metadata": {},
   "source": [
    "- Use least square, we can get a boundary which helps to decide where the sample belongs\n",
    "- Put the values from the product of feature and parameter into the sign function.\n",
    "\n",
    "\\begin{equation}A=\\begin{Bmatrix} \n",
    "     f(x_{1})_{1} & f(x_{1})_{2} & \\dots & f(x_{1})_{n}\\\\\n",
    "    f(x_{2})_{1} & f(x_{2})_{2} & \\dots & f(x_{2})_{n}\\\\\n",
    "    \\vdots & \\vdots & \\vdots & \\vdots \\\\\n",
    "    f(x_{m})_{1} & f(x_{m})_{2} & \\dots & f(x_{m})_{n}\\\\\n",
    "   \\end{Bmatrix}\n",
    "   \\end{equation}\n",
    "\n",
    "\\begin{equation}b=\\begin{Bmatrix} \n",
    "      y_1\\\\\n",
    "    y_2\\\\\n",
    "    \\vdots\\\\\n",
    "    y_n\\\\\n",
    "   \\end{Bmatrix}\n",
    "   \\end{equation}\n",
    "\n",
    "\\begin{equation}\\theta=(A^TA)^{-1}A^Tb\\end{equation}\n",
    "\n",
    "\\begin{equation} if,\\;x<0\\; then,\\;sign(x)= -1.\\quad otherwise,\\; sign(x)= 1 \\end{equation}"
   ]
  },
  {
   "cell_type": "code",
   "execution_count": 2,
   "metadata": {},
   "outputs": [],
   "source": [
    "import pandas as pd\n",
    "import numpy as np\n",
    "import matplotlib.pyplot as plt\n",
    "import numpy.linalg as lin\n",
    "\n",
    "\n",
    "class classifier():\n",
    "    def __init__(self, n = 0.5):\n",
    "        self.n = n\n",
    "        \n",
    "    def fit(self, X, y):\n",
    "        self.X = self.min_max(X)\n",
    "        self.y = y\n",
    "        self.alpha = 0;\n",
    "        self.w = np.dot(np.dot(lin.inv(np.dot(self.X.T,self.X)), self.X.T), self.y)\n",
    "        \n",
    "    def min_max(self, data):\n",
    "        result = (data-data.min()) / (data.max() - data.min())\n",
    "        return result\n",
    "    \n",
    "    def sign(self, data, alpha = 0):\n",
    "        return np.where(data>=alpha, 1, -1)\n",
    "        \n",
    "    def predict(self, ts_x):\n",
    "        return self.sign(np.dot(self.min_max(ts_x), self.w), self.alpha)\n",
    "    \n",
    "    def plot_parameter(self, index):\n",
    "        self.temp_arr = np.zeros(784)\n",
    "        j=0\n",
    "        for i in range(784):\n",
    "            if i in index:\n",
    "                j += 1\n",
    "                self.temp_arr[i] = 0\n",
    "            elif i-j>=717:\n",
    "                self.temp_arr[i] = 0\n",
    "            else:\n",
    "                self.temp_arr[i] = self.w[i-j]\n",
    "        plt.imshow(self.temp_arr.reshape(28,28), cmap = \"gray\")\n",
    "        plt.show()\n",
    "        print(self.temp_arr)\n",
    "            \n",
    "tr = pd.read_csv(\"mnist_train.csv\")\n",
    "ts = pd.read_csv(\"mnist_test.csv\")\n",
    "tr_data = np.array(tr)\n",
    "ts_data = np.array(ts)\n",
    "index_ = []\n",
    "\n",
    "for i in range(tr_data.shape[1]):\n",
    "    if np.unique(tr_data.T[i]).shape[0]==1:\n",
    "        index_.append(i)\n",
    "        \n",
    "tr_data = np.delete(tr_data, index_, axis=1)\n",
    "ts_data = np.delete(ts_data, index_, axis=1)\n",
    "tr_y, tr_x = np.split(tr_data, [1], axis=1)\n",
    "ts_y, ts_x = np.split(ts_data, [1], axis=1)\n",
    "tr_y = np.where(tr_y.astype(int)==0, 1, -1)\n",
    "ts_y = np.where(ts_y.astype(int)==0, 1, -1)\n",
    "clf = classifier()\n",
    "clf.fit(tr_x, tr_y)\n",
    "y_pred = clf.predict(ts_x)\n",
    "TP_index = []\n",
    "TN_index = []\n",
    "FP_index = []\n",
    "FN_index = []\n",
    "\n",
    "for i in range(y_pred.shape[0]):\n",
    "    if y_pred[i] == 1 and y_pred[i] == ts_y[i]:\n",
    "        TP_index.append(i)\n",
    "    elif y_pred[i] == -1 and y_pred[i] == ts_y[i]:\n",
    "        TN_index.append(i)\n",
    "    elif y_pred[i] == 1 and y_pred[i] != ts_y[i]:\n",
    "        FP_index.append(i)\n",
    "    else:\n",
    "        FN_index.append(i)\n",
    "ts = np.array(ts)\n",
    "_, ts = np.split(ts, [1], axis=1)\n",
    "F_score = [len(TP_index), len(FP_index),len(TN_index), len(FN_index)]\n",
    "TP_image = np.zeros(ts.shape[1])\n",
    "TN_image = np.zeros(ts.shape[1])\n",
    "FP_image = np.zeros(ts.shape[1])\n",
    "FN_image = np.zeros(ts.shape[1])\n",
    "\n",
    "for i in TP_index:\n",
    "    TP_image += ts[i]/len(TP_index)\n",
    "    \n",
    "for i in TN_index:\n",
    "    TN_image += ts[i]/len(TN_index)\n",
    "\n",
    "for i in FP_index:\n",
    "    FP_image += ts[i]/len(FP_index)\n",
    "\n",
    "for i in FN_index:\n",
    "    FN_image += ts[i]/len(FN_index)\n",
    "\n"
   ]
  },
  {
   "cell_type": "code",
   "execution_count": 3,
   "metadata": {},
   "outputs": [
    {
     "data": {
      "image/png": "[encoded data removed]",
      "text/plain": [
       "<Figure size 432x288 with 1 Axes>"
      ]
     },
     "metadata": {},
     "output_type": "display_data"
    },
    {
     "name": "stdout",
     "output_type": "stream",
     "text": [
      "[-1.75692756e+18  0.00000000e+00  0.00000000e+00  0.00000000e+00\n",
      "  0.00000000e+00  0.00000000e+00  0.00000000e+00  0.00000000e+00\n",
      "  0.00000000e+00  0.00000000e+00  0.00000000e+00  0.00000000e+00\n",
      "  0.00000000e+00  8.02376364e+17 -4.87064179e+17 -5.61535073e+18\n",
      " -5.49360989e+03  0.00000000e+00  0.00000000e+00  0.00000000e+00\n",
      "  0.00000000e+00  0.00000000e+00  0.00000000e+00  0.00000000e+00\n",
      "  0.00000000e+00  0.00000000e+00  0.00000000e+00  0.00000000e+00\n",
      "  0.00000000e+00  0.00000000e+00  0.00000000e+00  0.00000000e+00\n",
      "  0.00000000e+00 -2.93892013e+02  3.47976953e+02 -2.43925337e+02\n",
      "  7.16363847e+01 -1.60992421e+01  5.54467585e+00 -3.12968741e-01\n",
      " -1.54543762e+01  3.93870759e+01 -1.20123036e+01  8.24856171e+00\n",
      " -1.27470154e+01  2.67709549e+01 -5.05022931e+01  1.31138177e+02\n",
      " -1.54649884e+02  2.03903699e+02 -5.37348727e+01 -1.09177294e+02\n",
      "  9.85157311e+03  0.00000000e+00  0.00000000e+00  0.00000000e+00\n",
      "  0.00000000e+00  0.00000000e+00  0.00000000e+00 -1.86714828e+03\n",
      "  2.36689175e+02 -8.58379577e+02  1.10305295e+02 -4.23687732e+01\n",
      "  3.88341527e+00 -1.34825051e-01  2.22663180e-01  8.01659448e-01\n",
      "  1.34165955e+00 -1.43203836e+00 -3.02675840e-01  1.94462291e+00\n",
      " -2.75736365e+00  2.82599718e+00 -1.85610217e+00 -3.28976962e-01\n",
      "  2.31397344e+00 -3.48697692e+00 -7.38570211e+00  1.32019279e+00\n",
      "  2.69129828e+01 -8.20643460e+01 -3.90906351e+03  0.00000000e+00\n",
      "  0.00000000e+00  0.00000000e+00  0.00000000e+00  7.48397920e+01\n",
      "  2.55003723e+02 -1.49048805e+02  4.01910735e+01  1.32235651e+01\n",
      " -9.97590427e+00  2.48044741e+00 -8.69651833e-01  7.65903332e-01\n",
      " -2.05187185e+00  1.33597272e+00  1.93986110e-01 -6.46282150e-01\n",
      "  8.92160673e-02  1.55817831e-02 -4.97611654e-01  2.59836597e-01\n",
      "  3.31966553e-01 -2.32943727e+00  4.53337000e+00 -9.21468654e+00\n",
      "  4.47448389e+01 -2.55134114e+02  4.51683935e+02  4.36448855e+03\n",
      "  0.00000000e+00  0.00000000e+00  1.00771729e+03  1.05137103e+02\n",
      " -2.21873611e+01  2.74360667e+01 -1.58247705e+01  3.07870651e+00\n",
      "  8.11755565e-01 -2.82835058e-01 -3.53754725e-01  6.60613319e-01\n",
      " -5.06410305e-01  2.57747684e-02  2.17690468e-01 -5.26461293e-01\n",
      "  6.06462371e-01 -2.99958949e-01 -1.27694939e-01  2.04270375e-04\n",
      "  6.95778470e-01 -1.11135229e+00  1.98261076e+00 -2.74099594e+00\n",
      " -1.12093966e+01  6.03278357e+01 -1.93017685e+02  1.80021846e+03\n",
      "  2.49733730e+02  0.00000000e+00  0.00000000e+00  7.68483135e+01\n",
      " -1.83044316e+01 -5.29902525e-01  1.44140303e+00 -3.66296787e-01\n",
      "  3.86368598e-01 -1.59954274e-01  1.71247082e-01  1.79235039e-01\n",
      "  9.97282955e-03 -3.88596797e-01  7.36125285e-02  3.49818989e-01\n",
      " -5.48528005e-01  2.16387320e-01  1.06698782e-01 -8.66274212e-03\n",
      " -5.77697562e-01  7.43114223e-01 -1.77650849e+00  1.33726789e+00\n",
      "  1.96174996e+00 -7.69821204e-01 -2.85197896e+01 -4.93337005e+02\n",
      " -2.35982150e+04  0.00000000e+00 -9.44896555e+01 -4.38868737e-01\n",
      "  3.71848425e+00 -5.01664294e-01 -8.78084222e-01  1.21725494e-01\n",
      " -1.47880861e-01 -2.28193259e-01  2.62011964e-02 -4.06847072e-02\n",
      " -8.60930990e-02  5.20743492e-01 -3.34207467e-01 -4.21718913e-01\n",
      "  9.61613152e-01 -5.91008369e-01  2.18876505e-01 -2.68665746e-01\n",
      "  5.74654949e-02  8.45174435e-02  8.40565303e-02  9.93372133e-01\n",
      " -1.50727881e+00 -4.77776183e-01  5.88952707e+00  1.26566827e+02\n",
      " -2.86031631e+03  1.34634233e+02  3.26352459e+01 -7.64251238e+00\n",
      "  1.37763456e+00 -2.80299283e-01  7.70334566e-01  9.32062623e-02\n",
      " -1.37040538e-01 -2.47017634e-02  1.88396799e-01 -2.19742481e-01\n",
      "  3.35131471e-01 -2.90296953e-02 -2.13348815e-02  4.14036955e-02\n",
      " -1.15652682e-01  1.98569152e-01 -1.05459124e-01  2.45471235e-01\n",
      " -2.08403680e-01  4.46061244e-01 -2.52550640e-01 -1.33298941e+00\n",
      "  5.57034502e-01 -5.95214224e-01 -2.56906301e+00 -8.32120680e+01\n",
      "  2.53121157e+02 -6.16946562e+01 -7.05176462e+00  4.71214737e+00\n",
      " -6.49760882e-01  9.87529627e-01 -1.23651923e+00 -5.27624678e-02\n",
      "  4.87521818e-01 -4.20326319e-01 -7.83961476e-02 -1.51312480e-01\n",
      " -4.80976024e-01  6.82973334e-01 -3.44467787e-01  2.13873229e-01\n",
      " -4.85022117e-02  1.56894682e-01 -1.62551351e-01 -1.33865329e-01\n",
      "  3.83354872e-01 -3.82858688e-01 -3.18401837e-01  2.24418885e+00\n",
      " -1.62682742e+00  1.17786430e+00  2.44481230e+00  3.31445316e+01\n",
      "  7.34467268e+02  7.52123165e+01 -9.23584106e+00  8.54308140e+00\n",
      " -1.01814220e+01  3.44725409e+00 -4.55571876e-01  2.15584020e-01\n",
      " -5.92700062e-01  8.94068799e-01 -2.72506852e-01  4.10237225e-01\n",
      " -1.20368498e-01  8.23274791e-02 -1.06050700e-02 -4.16673512e-02\n",
      "  1.92145394e-01 -3.32229261e-01  2.95050969e-01 -9.09864401e-02\n",
      " -4.34678233e-01  5.37417505e-01 -4.40160216e-01 -7.38906396e-01\n",
      "  4.38914471e-01 -9.66361710e-01 -1.77177605e+00  3.89326058e+01\n",
      " -5.00053060e+02 -6.45469073e+01  7.51479199e+00 -4.33849298e+00\n",
      "  3.09941826e+00 -9.66522631e-01  5.51676806e-01 -1.70649015e-01\n",
      "  2.21451582e-01 -6.21737511e-02  1.40258390e-01 -3.42270687e-01\n",
      " -1.36933008e-01  1.17562482e-01 -4.91476583e-02 -2.32117614e-01\n",
      "  2.12705937e-01 -5.01124794e-02 -5.85651686e-03  2.26577278e-02\n",
      "  7.39128366e-01 -7.72146108e-01  9.06201641e-01  2.89357341e-01\n",
      " -7.39620933e-01  1.52848854e+00  6.06735063e-01 -7.16404148e+01\n",
      "  1.16834922e+02  3.08002157e+01  1.03015703e+01  4.63638185e-01\n",
      " -3.24540397e-01  8.89062799e-02 -2.18819321e-01  3.69390577e-01\n",
      " -5.80142160e-01  5.64791385e-02  2.63597471e-02  1.81666594e-01\n",
      "  5.44027850e-02  1.95407839e-02  1.02518244e-01 -5.79586879e-02\n",
      " -2.40863537e-02  6.67475866e-02  2.36331117e-02 -2.06380864e-01\n",
      " -6.76448524e-02  1.76578498e-01 -2.35349969e-01 -1.84110041e-01\n",
      "  3.54508037e-01 -2.18478844e+00  2.27992928e+00  8.86729050e+01\n",
      " -1.89162500e+02 -3.58974301e+01 -6.74788305e+00 -2.35016057e+00\n",
      " -7.91314383e-01  2.28389432e-01  1.09689255e-02 -4.49722077e-01\n",
      "  5.79034066e-01 -1.65486505e-01  2.14829316e-02 -3.05036986e-01\n",
      "  2.31747551e-01 -1.28800276e-01 -1.87351158e-01  5.29695340e-02\n",
      " -2.14923793e-01 -4.02839420e-02  4.26384200e-02  1.18112014e-01\n",
      " -3.86050879e-02  2.26318461e-02  3.42001330e-01  3.40426400e-01\n",
      "  4.40377003e-02  3.13199752e+00  4.07646749e-01 -2.28276176e+02\n",
      "  1.38187793e+03 -8.75649860e+01  2.47023409e+01  3.49917839e+00\n",
      "  2.69596978e-01 -2.45953016e-02 -1.29379470e-01  4.32532360e-01\n",
      " -3.07177829e-01 -2.03566718e-02  1.58946414e-01  3.98665511e-02\n",
      " -1.82427537e-02 -1.24597049e-01 -6.49039417e-02 -1.06655776e-01\n",
      "  1.06708426e-01  9.68198985e-03 -1.97639024e-01  1.13842280e-01\n",
      "  5.07685230e-02 -1.91802028e-01 -1.39010228e-01  1.17776808e-01\n",
      " -1.16587815e-01 -3.47499780e-01  5.01109238e+00 -2.48655763e+01\n",
      " -1.39744070e+16  1.75890313e+02 -4.25608273e+01 -2.40711422e+00\n",
      " -4.66626512e-01 -2.34460440e-02  5.05658335e-02 -2.58221683e-01\n",
      "  1.25799504e-01  6.00426313e-02 -5.22073386e-02 -3.20683994e-02\n",
      "  1.31685834e-02 -7.19284593e-02 -4.16487865e-02 -5.72024051e-03\n",
      " -5.52874082e-02 -1.19319560e-01 -9.66056791e-02 -6.37879784e-02\n",
      " -1.24803411e-01  5.18172837e-01 -1.52973303e-01  2.02729137e-02\n",
      " -2.84428523e-01  9.82132738e-02  3.68679886e+00 -4.03705594e+01\n",
      "  4.26785943e+16 -2.65029634e+02  4.01410237e+01 -5.59486531e-01\n",
      "  1.10678163e-01 -6.16677594e-02 -4.53849970e-02  2.37020880e-01\n",
      "  4.45588023e-02  4.36171077e-02 -1.35387585e-02  5.47531976e-02\n",
      " -6.38417128e-02  5.18118828e-02 -1.62313554e-01  6.02664054e-02\n",
      " -7.73580940e-02  2.81494475e-02 -3.14772522e-02 -3.38380535e-02\n",
      "  1.86115322e-01 -4.12131320e-01  2.92554524e-01 -9.62352061e-02\n",
      "  3.52194700e-01 -9.40754197e-02 -2.51987294e+00  3.57667476e+01\n",
      " -7.46875401e+15  5.40990517e+02 -2.11871833e+01  2.70826212e+00\n",
      "  1.82253292e-01  7.71530519e-02  8.04515960e-02 -3.16117215e-01\n",
      "  1.08897240e-01 -6.40047422e-02  6.50051034e-02 -7.76553153e-02\n",
      " -3.66233834e-02 -6.85969872e-02 -8.29130180e-02 -3.17248625e-02\n",
      " -8.23873238e-02 -9.30552053e-02 -1.99352664e-02  1.33961711e-02\n",
      " -9.24298476e-02  2.19481299e-01 -2.86149130e-01 -2.53433044e-02\n",
      " -1.23410376e-01  3.20238336e-03 -8.41954750e-01 -2.63618815e+00\n",
      " -1.23538537e+02  0.00000000e+00  9.35276367e+00 -3.48873997e+00\n",
      "  1.88139775e-01  1.67202995e-01  2.04474629e-01  6.02174920e-02\n",
      "  6.68510858e-02 -1.51460362e-02  1.36536810e-02  7.47368524e-03\n",
      " -4.19397222e-02 -7.30568215e-02 -2.32825555e-02 -6.41845105e-03\n",
      " -8.26721199e-02  1.61731304e-01 -6.85036763e-02 -2.94126568e-03\n",
      "  2.07552502e-02 -3.00027142e-02  1.48709402e-01 -2.80332223e-02\n",
      " -1.86704403e-02  6.91947178e-02  1.49620671e+00 -3.55448042e+01\n",
      "  5.27188556e+01  1.50288407e+02 -4.28479921e+00  8.37362002e-01\n",
      " -5.32209359e-01 -1.52462271e-01 -1.53730810e-01  6.47146023e-02\n",
      "  1.76465117e-02  5.58756929e-02  1.30769248e-02 -4.89255710e-02\n",
      " -3.05692365e-02 -9.46695577e-02 -8.78625891e-02 -4.87483018e-02\n",
      " -7.71766994e-03 -1.28217923e-01  1.09522750e-02  1.21351748e-02\n",
      " -1.23050731e-01  4.64924395e-02 -7.04069876e-02  6.17096162e-03\n",
      "  5.94588187e-02  4.45968624e-02 -1.03418591e+00  2.43098518e+00\n",
      " -3.05246816e+02 -4.69897076e+01  2.55916404e+00 -4.54704526e-01\n",
      "  3.75601838e-01  2.03128157e-01 -9.66628345e-02 -1.49763876e-03\n",
      "  6.86183989e-02 -6.67157167e-02  4.03472559e-03  9.57987529e-03\n",
      "  9.16007560e-02 -7.69235070e-03 -1.56578099e-02  2.19676866e-02\n",
      " -9.39309655e-03  1.05579186e-02  3.48165655e-03  3.30841197e-02\n",
      "  5.05559044e-02 -5.33977830e-02  4.21787446e-02  1.15456990e-02\n",
      " -1.08490805e-01 -5.29491151e-02 -5.73771611e-01  2.67611147e+01\n",
      "  1.67261822e+01  0.00000000e+00 -5.46594155e-01 -7.73848467e-02\n",
      " -1.36502335e-01 -1.16456264e-01  6.60218152e-02 -6.12004272e-03\n",
      " -2.38017531e-02  5.34561366e-02  2.00288948e-02 -2.55772722e-02\n",
      " -1.48481208e-02  8.56104425e-03 -2.73880905e-02 -2.92826893e-02\n",
      "  1.50864286e-02 -5.00441849e-03 -2.93010890e-02 -3.54962458e-02\n",
      " -1.47603152e-02  4.23949066e-02 -1.79745584e-02 -1.00123413e-01\n",
      "  3.53751045e-02  6.17429225e-02  7.16312385e-02 -4.26240483e+01\n",
      " -2.84062726e+07 -4.18572631e+00 -1.16703409e-02 -2.99281706e-02\n",
      "  5.28043017e-02 -2.40656683e-02 -1.21719213e-02 -6.01396907e-03\n",
      " -7.30357094e-03  2.12255959e-02  1.70233199e-02  1.63213631e-02\n",
      "  4.56533761e-03 -1.15557310e-02 -2.28554302e-03  1.13099377e-02\n",
      " -8.39751560e-03 -1.98496320e-02  9.11770986e-03 -1.06640434e-02\n",
      " -2.76735081e-03 -1.46800027e-02  3.08979365e-02 -2.55755741e-02\n",
      "  2.14564651e-02 -6.11404082e-03  1.67670013e-01  2.68460285e+06\n",
      "  2.93226648e+07  4.66443599e-01 -6.03814345e-02  2.09599321e-02\n",
      " -9.55903417e-02  2.86640916e-02  4.32843722e-02  2.50095545e-02\n",
      "  8.28334738e-04  1.38615898e-02 -1.48870361e-02  6.14403639e-03\n",
      "  7.86268683e-03  3.63506256e-02  8.64628479e-04 -2.42334997e-02\n",
      " -2.50244950e-02 -1.56975027e-02 -3.52297116e-02  1.12318366e-02\n",
      " -3.38142591e-02  2.15496564e-02  5.21736700e-02 -3.97026543e-02\n",
      "  3.58145272e-02 -6.40255048e-02  5.84429022e-01 -1.45417942e+06\n",
      "  1.63573655e-01  0.00000000e+00  0.00000000e+00 -3.40471669e-02\n",
      " -6.23798554e-02 -2.13668443e-02 -6.95956749e-02  1.13069595e-02\n",
      " -2.40082335e-02  5.47645218e-03  6.27277138e-03  9.81811617e-03\n",
      "  1.17465442e-02 -1.07165173e-02  1.20464275e-02  2.31960826e-02\n",
      "  2.30879771e-02  8.77267939e-04 -2.72237106e-02 -3.26438448e-02\n",
      " -4.39646811e-02 -3.90097959e-02 -1.43941777e-02 -3.23380737e-02\n",
      "  3.33030308e-02 -2.37117938e-01 -6.92275460e-01 -8.40724083e-01\n",
      "  0.00000000e+00  0.00000000e+00  0.00000000e+00  2.56980906e-01\n",
      "  1.95111509e-02 -1.47017245e-01  6.47315330e-02 -4.44960921e-02\n",
      "  4.50763082e-03 -2.24494575e-02 -1.83780474e-02 -4.58644967e-02\n",
      " -2.48267531e-02 -9.00825770e-03 -3.43587672e-02 -2.53677833e-02\n",
      " -1.81899917e-02 -1.34873591e-02  8.28015029e-03 -3.20021936e-02\n",
      "  5.12356555e-03 -5.52038722e-02 -9.40419646e-02 -4.89607472e-02\n",
      " -3.13013634e-01  6.61278557e-01  1.32576180e+00  1.37757455e-01\n",
      "  0.00000000e+00  0.00000000e+00  0.00000000e+00 -1.09282057e-01\n",
      " -4.09158138e-02 -1.64806173e-01 -4.60748592e-02 -1.44938962e-01\n",
      " -5.76253319e-02 -7.42595978e-02 -8.18335975e-02 -4.07620022e-02\n",
      " -7.69525375e-02 -6.40893452e-02 -5.37377841e-02 -3.88349329e-02\n",
      " -5.10326640e-02 -6.12542217e-02 -3.43471629e-02 -8.38158273e-03\n",
      " -5.17156426e-02 -1.10904656e-03  1.14090761e-01 -1.20697113e-01\n",
      " -1.77316038e-01 -8.71908139e-01 -1.92299064e+00 -1.58384358e+00\n",
      "  0.00000000e+00  0.00000000e+00  0.00000000e+00  0.00000000e+00\n",
      "  2.45084211e-01 -2.96387865e-01  1.90092285e-03 -1.07443932e-01\n",
      " -8.92650104e-02 -1.44951031e-01 -8.04367637e-02 -1.38556072e-01\n",
      " -6.95580727e-02 -1.36953983e-01 -7.82743129e-02 -1.48336263e-01\n",
      " -9.09041524e-02 -7.36813086e-02 -1.31459962e-01 -4.76794765e-02\n",
      "  5.93817588e-02 -3.44856058e-01  6.92244351e-02 -6.49903363e-01\n",
      "  3.02937412e+00 -7.05818580e-01  1.19327798e+00  0.00000000e+00\n",
      "  0.00000000e+00  0.00000000e+00  0.00000000e+00  0.00000000e+00\n",
      "  0.00000000e+00 -6.51828274e-02 -4.07564191e-01 -4.51334935e-02\n",
      " -1.12792176e-01 -1.07137254e-01 -1.24397908e-01 -2.11221361e-02\n",
      " -2.06439576e-01 -3.34205134e-02 -1.93577023e-01 -9.62038125e-02\n",
      " -6.03377613e-02 -2.04815953e-01 -1.07929675e-01  7.84169739e-02\n",
      " -2.57120109e-01  2.84459480e-01 -7.07161585e-01 -2.59705712e+00\n",
      "  0.00000000e+00  0.00000000e+00  0.00000000e+00  0.00000000e+00]\n"
     ]
    }
   ],
   "source": [
    "clf.plot_parameter(index_)"
   ]
  },
  {
   "cell_type": "markdown",
   "metadata": {},
   "source": [
    "- This is the parameter, and plot the parameter using matplotlib\n",
    "\n",
    "\\begin{equation} \\theta = [ \\theta_{1}, \\theta_{1},\\dots, \\theta_{n}] \\end{equation}"
   ]
  },
  {
   "cell_type": "code",
   "execution_count": 4,
   "metadata": {},
   "outputs": [
    {
     "data": {
      "image/png": "[encoded data removed]",
      "text/plain": [
       "<Figure size 432x288 with 1 Axes>"
      ]
     },
     "metadata": {},
     "output_type": "display_data"
    }
   ],
   "source": [
    "plt.imshow(TP_image.reshape((28,28)))\n",
    "plt.show()"
   ]
  },
  {
   "cell_type": "markdown",
   "metadata": {},
   "source": [
    "- This is the average True Positive image."
   ]
  },
  {
   "cell_type": "code",
   "execution_count": 5,
   "metadata": {},
   "outputs": [
    {
     "data": {
      "image/png": "[encoded data removed]",
      "text/plain": [
       "<Figure size 432x288 with 1 Axes>"
      ]
     },
     "metadata": {},
     "output_type": "display_data"
    }
   ],
   "source": [
    "plt.imshow(TN_image.reshape((28,28)))\n",
    "plt.show()"
   ]
  },
  {
   "cell_type": "markdown",
   "metadata": {},
   "source": [
    "- This is the average True Negative image"
   ]
  },
  {
   "cell_type": "code",
   "execution_count": 6,
   "metadata": {},
   "outputs": [
    {
     "data": {
      "image/png": "[encoded data removed]",
      "text/plain": [
       "<Figure size 432x288 with 1 Axes>"
      ]
     },
     "metadata": {},
     "output_type": "display_data"
    }
   ],
   "source": [
    "plt.imshow(FP_image.reshape((28,28)))\n",
    "plt.show()"
   ]
  },
  {
   "cell_type": "markdown",
   "metadata": {},
   "source": [
    "- This is the average False Positive image."
   ]
  },
  {
   "cell_type": "code",
   "execution_count": 7,
   "metadata": {},
   "outputs": [
    {
     "data": {
      "image/png": "[encoded data removed]",
      "text/plain": [
       "<Figure size 432x288 with 1 Axes>"
      ]
     },
     "metadata": {},
     "output_type": "display_data"
    }
   ],
   "source": [
    "plt.imshow(FN_image.reshape((28,28)))\n",
    "plt.show()"
   ]
  },
  {
   "cell_type": "markdown",
   "metadata": {},
   "source": [
    "- This is the average False Negative image."
   ]
  },
  {
   "cell_type": "code",
   "execution_count": 8,
   "metadata": {},
   "outputs": [
    {
     "name": "stdout",
     "output_type": "stream",
     "text": [
      "[812, 824, 8195, 168]\n"
     ]
    }
   ],
   "source": [
    "print(F_score)"
   ]
  },
  {
   "cell_type": "markdown",
   "metadata": {},
   "source": [
    "- This is the evaluation table [TP, FP, TN, FN]"
   ]
  },
  {
   "cell_type": "code",
   "execution_count": null,
   "metadata": {},
   "outputs": [],
   "source": []
  }
 ],
 "metadata": {
  "kernelspec": {
   "display_name": "Python 3",
   "language": "python",
   "name": "python3"
  },
  "language_info": {
   "codemirror_mode": {
    "name": "ipython",
    "version": 3
   },
   "file_extension": ".py",
   "mimetype": "text/x-python",
   "name": "python",
   "nbconvert_exporter": "python",
   "pygments_lexer": "ipython3",
   "version": "3.6.5"
  }
 },
 "nbformat": 4,
 "nbformat_minor": 2
}
